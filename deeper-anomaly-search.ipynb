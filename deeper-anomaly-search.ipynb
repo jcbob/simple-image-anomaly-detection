{
 "cells": [
  {
   "cell_type": "code",
   "execution_count": 123,
   "id": "b3724f6f-5705-4857-81c3-bd77a0090d15",
   "metadata": {},
   "outputs": [],
   "source": [
    "# Wygenerowanie pliku z losowym tłem (macierz 500x500x3)\n",
    "\n",
    "import numpy as np\n",
    "from matplotlib import pyplot as plt\n",
    "import matplotlib.image as mpimg\n",
    "\n",
    "random_image = np.random.randint(0, 255, size=[500, 500, 3], dtype=int)\n",
    "\n",
    "\n",
    "# Dodajemy kwadraciki 10x10 o określonych kolorach [R,G,B]\n",
    "random_image[100:110, 100:110, :] = [200, 20, 150]\n",
    "random_image[300:310, 200:210, :] = [255, 0, 0]\n",
    "random_image[200:210, 200:210, :] = [255, 150, 0]\n",
    "random_image[295:305, 380:390, :] = [0, 20, 200]\n",
    "random_image[395:405, 95:105, :] = [150, 50, 100]\n",
    "random_image[450:460, 200:210, :] = [150, 100, 100]\n",
    "random_image[470:480, 220:230, :] = [255, 150, 0]\n",
    "random_image[ 80: 90, 380:390, :] = [0, 20, 200]\n",
    "random_image[ 80: 90, 380:390, :] = [0, 20, 200]\n",
    "random_image[420:430, 320:330, :] = [0, 240, 0]\n",
    "\n",
    "# plt.imshow(random_image);\n",
    "\n",
    "random_image = random_image.astype(np.uint8)\n",
    "mpimg.imsave('images/deeper-img.png', random_image)"
   ]
  },
  {
   "cell_type": "code",
   "execution_count": 103,
   "id": "09c0d70b-00c2-444f-a5b6-7ab36d92240a",
   "metadata": {},
   "outputs": [],
   "source": [
    "import cv2 \n",
    "import matplotlib.pyplot as plt \n",
    "\n",
    "# load image \n",
    "imageObj = cv2.imread('images/deeper-img.png')  # w BGR\n",
    "\n",
    "\n",
    "from PIL import Image\n",
    "im = Image.fromarray(imageObj)\n",
    "\n",
    "im_crop = im.crop((100, 400, 150, 450))\n",
    "im_crop = np.asarray(im_crop)"
   ]
  },
  {
   "cell_type": "code",
   "execution_count": 105,
   "id": "f8a5487c-6618-4034-b088-a075c9840a11",
   "metadata": {},
   "outputs": [],
   "source": [
    "def hasAnomaly(img):\n",
    "    img=np.asarray(img)\n",
    "    bHist = cv2.calcHist([img], [0], None, [256], [0, 256]) \n",
    "    gHist = cv2.calcHist([img], [1], None, [256], [0, 256]) \n",
    "    rHist = cv2.calcHist([img], [2], None, [256], [0, 256]) \n",
    "\n",
    "    bMax=np.max(bHist)\n",
    "    gMax=np.max(gHist)\n",
    "    rMax=np.max(rHist)\n",
    "\n",
    "    bMean=np.mean(bHist)\n",
    "    gMean=np.mean(gHist)\n",
    "    rMean=np.mean(rHist)\n",
    "\n",
    "    if bMax>2.7*bMean or rMax>2.7*rMean or gMax>2.7*gMean:\n",
    "        return True\n",
    "    return False"
   ]
  },
  {
   "cell_type": "code",
   "execution_count": 120,
   "id": "1682af19-b3e6-4219-aa96-2897bfba9eac",
   "metadata": {},
   "outputs": [
    {
     "name": "stdout",
     "output_type": "stream",
     "text": [
      "[(350, 50), (100, 100), (200, 200), (350, 250), (200, 300), (350, 300), (50, 350), (100, 350), (50, 400), (100, 400), (300, 400), (200, 450)]\n"
     ]
    }
   ],
   "source": [
    "im = Image.fromarray(imageObj)\n",
    "\n",
    "listOfCoordinates=[]\n",
    "\n",
    "for y in range(0, 500, 50):\n",
    "    for x in range(0, 500, 50):\n",
    "        croppedImg = im.crop((x, y, x+50, y+50))\n",
    "        if hasAnomaly(croppedImg):\n",
    "            anomaliesCoordinates=(x,y)\n",
    "            listOfCoordinates.append(anomaliesCoordinates)\n",
    "\n",
    "\n",
    "print(listOfCoordinates)\n",
    "\n",
    "imArray=np.asarray(im)\n",
    "imArray=cv2.cvtColor(imArray, cv2.COLOR_BGR2RGB) \n",
    "\n",
    "for x,y in listOfCoordinates:\n",
    "    cv2.rectangle(imArray, (x, y), (x + 50, y + 50), (0, 255, 0), 2)  # Draw green rectangles\n",
    "\n",
    "# plt.figure()\n",
    "# plt.imshow(imArray)"
   ]
  },
  {
   "cell_type": "code",
   "execution_count": 125,
   "id": "e4be00b9-a49b-4ff3-aa92-71d08715f68c",
   "metadata": {},
   "outputs": [],
   "source": [
    "test_crop = im.crop((100, 100, 150, 150))\n",
    "test_crop = test_crop.crop((5, 5, 15, 15))\n",
    "\n",
    "test_crop = np.asarray(test_crop)\n",
    "# plt.imshow(cv2.cvtColor(test_crop, cv2.COLOR_BGR2RGB))\n",
    "\n",
    "\n",
    "blue_color = cv2.calcHist([test_crop], [0], None, [256], [0, 256]) \n",
    "green_color = cv2.calcHist([test_crop], [1], None, [256], [0, 256]) \n",
    "red_color = cv2.calcHist([test_crop], [2], None, [256], [0, 256])\n",
    "\n",
    "\n",
    "# plt.figure(num=None, figsize=(8, 2))\n",
    "# plt.plot(blue_color, color='b') \n",
    "# plt.plot(green_color, color='g') \n",
    "# plt.plot(red_color, color='r') \n",
    "# plt.title('Image Histogram') \n",
    "# plt.show()\n"
   ]
  },
  {
   "cell_type": "code",
   "execution_count": 117,
   "id": "a19f9a58-23d2-4477-a4ed-188cbe3c2f2e",
   "metadata": {},
   "outputs": [
    {
     "name": "stdout",
     "output_type": "stream",
     "text": [
      "blue mean - 0.390625\n",
      "blue max - 25.0\n",
      "red mean - 0.390625\n",
      "red max - 25.0\n",
      "green mean - 0.390625\n",
      "green max - 25.0\n"
     ]
    }
   ],
   "source": [
    "print(f\"blue mean - {np.mean(blue_color)}\")\n",
    "print(f\"blue max - {np.max(blue_color)}\")\n",
    "\n",
    "print(f\"red mean - {np.mean(red_color)}\")\n",
    "print(f\"red max - {np.max(red_color)}\")\n",
    "\n",
    "print(f\"green mean - {np.mean(green_color)}\")\n",
    "print(f\"green max - {np.max(green_color)}\")"
   ]
  },
  {
   "cell_type": "code",
   "execution_count": null,
   "id": "2114cc88-fb48-4789-9e47-84d9d13ffb73",
   "metadata": {},
   "outputs": [],
   "source": []
  }
 ],
 "metadata": {
  "kernelspec": {
   "display_name": "Python 3 (ipykernel)",
   "language": "python",
   "name": "python3"
  },
  "language_info": {
   "codemirror_mode": {
    "name": "ipython",
    "version": 3
   },
   "file_extension": ".py",
   "mimetype": "text/x-python",
   "name": "python",
   "nbconvert_exporter": "python",
   "pygments_lexer": "ipython3",
   "version": "3.11.8"
  }
 },
 "nbformat": 4,
 "nbformat_minor": 5
}
